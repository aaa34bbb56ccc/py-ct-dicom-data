{
 "cells": [
  {
   "cell_type": "code",
   "execution_count": 3,
   "metadata": {},
   "outputs": [],
   "source": [
    "IS_LOCAL = True\n",
    "import numpy as np\n",
    "import pandas as pd\n",
    "from skimage.io import imread\n",
    "import seaborn as sns\n",
    "import matplotlib.pyplot as plt\n",
    "from glob import glob\n",
    "if(IS_LOCAL):\n",
    "    import pydicom as dicom\n",
    "else:\n",
    "    import dicom\n",
    "import os"
   ]
  },
  {
   "cell_type": "code",
   "execution_count": 5,
   "metadata": {},
   "outputs": [
    {
     "name": "stdout",
     "output_type": "stream",
     "text": [
      "['dicom_dir.zip', 'full_archive.npz.zip', 'overview.csv', 'tiff_images.zip']\n"
     ]
    }
   ],
   "source": [
    "if(IS_LOCAL):\n",
    "    PATH=\"./input/siim-medical-image/\"\n",
    "else:\n",
    "    PATH=\"./input/\"\n",
    "print(os.listdir(PATH))"
   ]
  },
  {
   "cell_type": "markdown",
   "metadata": {},
   "source": [
    "<h1> Read the data</h1>"
   ]
  },
  {
   "cell_type": "markdown",
   "metadata": {},
   "source": [
    "<h2> Read overview data</h2>"
   ]
  },
  {
   "cell_type": "code",
   "execution_count": 6,
   "metadata": {},
   "outputs": [],
   "source": [
    "data_df = pd.read_csv(os.path.join(PATH,\"overview.csv\"))"
   ]
  },
  {
   "cell_type": "code",
   "execution_count": 7,
   "metadata": {},
   "outputs": [
    {
     "name": "stdout",
     "output_type": "stream",
     "text": [
      "CT Medical images -  rows: 100  columns: 8\n"
     ]
    }
   ],
   "source": [
    "print(\"CT Medical images -  rows:\",data_df.shape[0],\" columns:\", data_df.shape[1])"
   ]
  },
  {
   "cell_type": "code",
   "execution_count": 8,
   "metadata": {},
   "outputs": [
    {
     "data": {
      "text/html": [
       "<div>\n",
       "<style scoped>\n",
       "    .dataframe tbody tr th:only-of-type {\n",
       "        vertical-align: middle;\n",
       "    }\n",
       "\n",
       "    .dataframe tbody tr th {\n",
       "        vertical-align: top;\n",
       "    }\n",
       "\n",
       "    .dataframe thead th {\n",
       "        text-align: right;\n",
       "    }\n",
       "</style>\n",
       "<table border=\"1\" class=\"dataframe\">\n",
       "  <thead>\n",
       "    <tr style=\"text-align: right;\">\n",
       "      <th></th>\n",
       "      <th>Unnamed: 0</th>\n",
       "      <th>Age</th>\n",
       "      <th>Contrast</th>\n",
       "      <th>ContrastTag</th>\n",
       "      <th>raw_input_path</th>\n",
       "      <th>id</th>\n",
       "      <th>tiff_name</th>\n",
       "      <th>dicom_name</th>\n",
       "    </tr>\n",
       "  </thead>\n",
       "  <tbody>\n",
       "    <tr>\n",
       "      <th>0</th>\n",
       "      <td>0</td>\n",
       "      <td>60</td>\n",
       "      <td>True</td>\n",
       "      <td>NONE</td>\n",
       "      <td>../data/50_50_dicom_cases\\Contrast\\00001 (1).dcm</td>\n",
       "      <td>0</td>\n",
       "      <td>ID_0000_AGE_0060_CONTRAST_1_CT.tif</td>\n",
       "      <td>ID_0000_AGE_0060_CONTRAST_1_CT.dcm</td>\n",
       "    </tr>\n",
       "    <tr>\n",
       "      <th>1</th>\n",
       "      <td>1</td>\n",
       "      <td>69</td>\n",
       "      <td>True</td>\n",
       "      <td>NONE</td>\n",
       "      <td>../data/50_50_dicom_cases\\Contrast\\00001 (10).dcm</td>\n",
       "      <td>1</td>\n",
       "      <td>ID_0001_AGE_0069_CONTRAST_1_CT.tif</td>\n",
       "      <td>ID_0001_AGE_0069_CONTRAST_1_CT.dcm</td>\n",
       "    </tr>\n",
       "    <tr>\n",
       "      <th>2</th>\n",
       "      <td>2</td>\n",
       "      <td>74</td>\n",
       "      <td>True</td>\n",
       "      <td>APPLIED</td>\n",
       "      <td>../data/50_50_dicom_cases\\Contrast\\00001 (11).dcm</td>\n",
       "      <td>2</td>\n",
       "      <td>ID_0002_AGE_0074_CONTRAST_1_CT.tif</td>\n",
       "      <td>ID_0002_AGE_0074_CONTRAST_1_CT.dcm</td>\n",
       "    </tr>\n",
       "    <tr>\n",
       "      <th>3</th>\n",
       "      <td>3</td>\n",
       "      <td>75</td>\n",
       "      <td>True</td>\n",
       "      <td>NONE</td>\n",
       "      <td>../data/50_50_dicom_cases\\Contrast\\00001 (12).dcm</td>\n",
       "      <td>3</td>\n",
       "      <td>ID_0003_AGE_0075_CONTRAST_1_CT.tif</td>\n",
       "      <td>ID_0003_AGE_0075_CONTRAST_1_CT.dcm</td>\n",
       "    </tr>\n",
       "    <tr>\n",
       "      <th>4</th>\n",
       "      <td>4</td>\n",
       "      <td>56</td>\n",
       "      <td>True</td>\n",
       "      <td>NONE</td>\n",
       "      <td>../data/50_50_dicom_cases\\Contrast\\00001 (13).dcm</td>\n",
       "      <td>4</td>\n",
       "      <td>ID_0004_AGE_0056_CONTRAST_1_CT.tif</td>\n",
       "      <td>ID_0004_AGE_0056_CONTRAST_1_CT.dcm</td>\n",
       "    </tr>\n",
       "  </tbody>\n",
       "</table>\n",
       "</div>"
      ],
      "text/plain": [
       "   Unnamed: 0  Age  Contrast ContrastTag  \\\n",
       "0           0   60      True        NONE   \n",
       "1           1   69      True        NONE   \n",
       "2           2   74      True     APPLIED   \n",
       "3           3   75      True        NONE   \n",
       "4           4   56      True        NONE   \n",
       "\n",
       "                                      raw_input_path  id  \\\n",
       "0   ../data/50_50_dicom_cases\\Contrast\\00001 (1).dcm   0   \n",
       "1  ../data/50_50_dicom_cases\\Contrast\\00001 (10).dcm   1   \n",
       "2  ../data/50_50_dicom_cases\\Contrast\\00001 (11).dcm   2   \n",
       "3  ../data/50_50_dicom_cases\\Contrast\\00001 (12).dcm   3   \n",
       "4  ../data/50_50_dicom_cases\\Contrast\\00001 (13).dcm   4   \n",
       "\n",
       "                            tiff_name                          dicom_name  \n",
       "0  ID_0000_AGE_0060_CONTRAST_1_CT.tif  ID_0000_AGE_0060_CONTRAST_1_CT.dcm  \n",
       "1  ID_0001_AGE_0069_CONTRAST_1_CT.tif  ID_0001_AGE_0069_CONTRAST_1_CT.dcm  \n",
       "2  ID_0002_AGE_0074_CONTRAST_1_CT.tif  ID_0002_AGE_0074_CONTRAST_1_CT.dcm  \n",
       "3  ID_0003_AGE_0075_CONTRAST_1_CT.tif  ID_0003_AGE_0075_CONTRAST_1_CT.dcm  \n",
       "4  ID_0004_AGE_0056_CONTRAST_1_CT.tif  ID_0004_AGE_0056_CONTRAST_1_CT.dcm  "
      ]
     },
     "execution_count": 8,
     "metadata": {},
     "output_type": "execute_result"
    }
   ],
   "source": [
    "data_df.head()"
   ]
  },
  {
   "cell_type": "markdown",
   "metadata": {},
   "source": [
    "<h2> Read TIFF data </h2>"
   ]
  },
  {
   "cell_type": "code",
   "execution_count": 10,
   "metadata": {},
   "outputs": [
    {
     "name": "stdout",
     "output_type": "stream",
     "text": [
      "Number of TIFF images: 100\n"
     ]
    }
   ],
   "source": [
    "print(\"Number of TIFF images:\", len(os.listdir(os.path.join(PATH,\"tiff_images\"))))"
   ]
  },
  {
   "cell_type": "code",
   "execution_count": 11,
   "metadata": {},
   "outputs": [],
   "source": [
    "tiff_data = pd.DataFrame([{'path': filepath} for filepath in glob(PATH+'tiff_images/*.tif')])"
   ]
  },
  {
   "cell_type": "markdown",
   "metadata": {},
   "source": [
    "<h3> Process TIFF data </h3>\n",
    "<p>\n",
    "We define a function to process data.\n",
    "<br/>\n",
    "We extract file, ID, age, contrast, modality information from path info.\n",
    "</p>"
   ]
  },
  {
   "cell_type": "code",
   "execution_count": 13,
   "metadata": {},
   "outputs": [],
   "source": [
    "def process_data(path):\n",
    "    data = pd.DataFrame([{'path': filepath} for filepath in glob(PATH+path)])\n",
    "    data['file'] = data['path'].map(os.path.basename)\n",
    "    data['ID'] = data['file'].map(lambda x: str(x.split('_')[1]))\n",
    "    data['Age'] = data['file'].map(lambda x: int(x.split('_')[3]))\n",
    "    data['Contrast'] = data['file'].map(lambda x: bool(int(x.split('_')[5])))\n",
    "    data['Modality'] = data['file'].map(lambda x: str(x.split('_')[6].split('.')[-2]))\n",
    "    return data"
   ]
  },
  {
   "cell_type": "code",
   "execution_count": 14,
   "metadata": {},
   "outputs": [],
   "source": [
    "tiff_data = process_data('tiff_images/*.tif')"
   ]
  },
  {
   "cell_type": "code",
   "execution_count": 15,
   "metadata": {},
   "outputs": [
    {
     "data": {
      "text/html": [
       "<div>\n",
       "<style scoped>\n",
       "    .dataframe tbody tr th:only-of-type {\n",
       "        vertical-align: middle;\n",
       "    }\n",
       "\n",
       "    .dataframe tbody tr th {\n",
       "        vertical-align: top;\n",
       "    }\n",
       "\n",
       "    .dataframe thead th {\n",
       "        text-align: right;\n",
       "    }\n",
       "</style>\n",
       "<table border=\"1\" class=\"dataframe\">\n",
       "  <thead>\n",
       "    <tr style=\"text-align: right;\">\n",
       "      <th></th>\n",
       "      <th>path</th>\n",
       "      <th>file</th>\n",
       "      <th>ID</th>\n",
       "      <th>Age</th>\n",
       "      <th>Contrast</th>\n",
       "      <th>Modality</th>\n",
       "    </tr>\n",
       "  </thead>\n",
       "  <tbody>\n",
       "    <tr>\n",
       "      <th>0</th>\n",
       "      <td>./input/siim-medical-image/tiff_images\\ID_0000...</td>\n",
       "      <td>ID_0000_AGE_0060_CONTRAST_1_CT.tif</td>\n",
       "      <td>0000</td>\n",
       "      <td>60</td>\n",
       "      <td>True</td>\n",
       "      <td>CT</td>\n",
       "    </tr>\n",
       "    <tr>\n",
       "      <th>1</th>\n",
       "      <td>./input/siim-medical-image/tiff_images\\ID_0001...</td>\n",
       "      <td>ID_0001_AGE_0069_CONTRAST_1_CT.tif</td>\n",
       "      <td>0001</td>\n",
       "      <td>69</td>\n",
       "      <td>True</td>\n",
       "      <td>CT</td>\n",
       "    </tr>\n",
       "    <tr>\n",
       "      <th>2</th>\n",
       "      <td>./input/siim-medical-image/tiff_images\\ID_0002...</td>\n",
       "      <td>ID_0002_AGE_0074_CONTRAST_1_CT.tif</td>\n",
       "      <td>0002</td>\n",
       "      <td>74</td>\n",
       "      <td>True</td>\n",
       "      <td>CT</td>\n",
       "    </tr>\n",
       "    <tr>\n",
       "      <th>3</th>\n",
       "      <td>./input/siim-medical-image/tiff_images\\ID_0003...</td>\n",
       "      <td>ID_0003_AGE_0075_CONTRAST_1_CT.tif</td>\n",
       "      <td>0003</td>\n",
       "      <td>75</td>\n",
       "      <td>True</td>\n",
       "      <td>CT</td>\n",
       "    </tr>\n",
       "    <tr>\n",
       "      <th>4</th>\n",
       "      <td>./input/siim-medical-image/tiff_images\\ID_0004...</td>\n",
       "      <td>ID_0004_AGE_0056_CONTRAST_1_CT.tif</td>\n",
       "      <td>0004</td>\n",
       "      <td>56</td>\n",
       "      <td>True</td>\n",
       "      <td>CT</td>\n",
       "    </tr>\n",
       "  </tbody>\n",
       "</table>\n",
       "</div>"
      ],
      "text/plain": [
       "                                                path  \\\n",
       "0  ./input/siim-medical-image/tiff_images\\ID_0000...   \n",
       "1  ./input/siim-medical-image/tiff_images\\ID_0001...   \n",
       "2  ./input/siim-medical-image/tiff_images\\ID_0002...   \n",
       "3  ./input/siim-medical-image/tiff_images\\ID_0003...   \n",
       "4  ./input/siim-medical-image/tiff_images\\ID_0004...   \n",
       "\n",
       "                                 file    ID  Age  Contrast Modality  \n",
       "0  ID_0000_AGE_0060_CONTRAST_1_CT.tif  0000   60      True       CT  \n",
       "1  ID_0001_AGE_0069_CONTRAST_1_CT.tif  0001   69      True       CT  \n",
       "2  ID_0002_AGE_0074_CONTRAST_1_CT.tif  0002   74      True       CT  \n",
       "3  ID_0003_AGE_0075_CONTRAST_1_CT.tif  0003   75      True       CT  \n",
       "4  ID_0004_AGE_0056_CONTRAST_1_CT.tif  0004   56      True       CT  "
      ]
     },
     "execution_count": 15,
     "metadata": {},
     "output_type": "execute_result"
    }
   ],
   "source": [
    "tiff_data.head()"
   ]
  }
 ],
 "metadata": {
  "kernelspec": {
   "display_name": "Python 3",
   "language": "python",
   "name": "python3"
  },
  "language_info": {
   "codemirror_mode": {
    "name": "ipython",
    "version": 3
   },
   "file_extension": ".py",
   "mimetype": "text/x-python",
   "name": "python",
   "nbconvert_exporter": "python",
   "pygments_lexer": "ipython3",
   "version": "3.7.3"
  }
 },
 "nbformat": 4,
 "nbformat_minor": 2
}
